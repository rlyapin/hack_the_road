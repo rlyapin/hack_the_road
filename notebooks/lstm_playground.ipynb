{
 "cells": [
  {
   "cell_type": "code",
   "execution_count": null,
   "metadata": {},
   "outputs": [],
   "source": [
    "import tensorflow as tf\n",
    "import numpy as np"
   ]
  },
  {
   "cell_type": "code",
   "execution_count": null,
   "metadata": {},
   "outputs": [],
   "source": [
    "np_frames = np.loadtxt(\"../data/processed_video/C5IkONJ-aTY.txt\")\n",
    "print np_frames.shape"
   ]
  },
  {
   "cell_type": "code",
   "execution_count": null,
   "metadata": {},
   "outputs": [],
   "source": [
    "tf.reset_default_graph()\n",
    "\n",
    "tf_frames = tf.constant(np.expand_dims(np_frames, axis=0), dtype=tf.float32)\n",
    "print tf_frames\n",
    "\n",
    "NUM_HIDDEN = 25\n",
    "lstm_cell = tf.contrib.rnn.BasicLSTMCell(NUM_HIDDEN)\n",
    "output, _ = tf.nn.dynamic_rnn(lstm_cell, tf_frames, dtype=tf.float32)\n",
    "final_lstm_state = output[:, -1, :]\n",
    "\n",
    "pre_prob_layer = tf.layers.dense(final_lstm_state, units=2)\n",
    "prob_layer = tf.nn.softmax(pre_prob_layer)\n",
    "\n",
    "print final_lstm_state\n",
    "print prob_layer\n",
    "with tf.Session() as sess:\n",
    "    sess.run(tf.global_variables_initializer())\n",
    "    print sess.run(prob_layer)"
   ]
  }
 ],
 "metadata": {
  "kernelspec": {
   "display_name": "Python 2",
   "language": "python",
   "name": "python2"
  },
  "language_info": {
   "codemirror_mode": {
    "name": "ipython",
    "version": 2
   },
   "file_extension": ".py",
   "mimetype": "text/x-python",
   "name": "python",
   "nbconvert_exporter": "python",
   "pygments_lexer": "ipython2",
   "version": "2.7.13"
  }
 },
 "nbformat": 4,
 "nbformat_minor": 2
}
