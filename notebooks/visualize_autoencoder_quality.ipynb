{
 "cells": [
  {
   "cell_type": "code",
   "execution_count": null,
   "metadata": {},
   "outputs": [],
   "source": [
    "import tensorflow as tf\n",
    "import h5py\n",
    "import numpy as np\n",
    "import matplotlib.pyplot as plt\n",
    "%matplotlib inline\n",
    "\n",
    "import sys\n",
    "sys.path.append(\"..\")"
   ]
  },
  {
   "cell_type": "markdown",
   "metadata": {},
   "source": [
    "Getting a sample of random video frames for testing"
   ]
  },
  {
   "cell_type": "code",
   "execution_count": null,
   "metadata": {},
   "outputs": [],
   "source": [
    "from lib.utils.comma_ai_generator import batch_frame_generator\n",
    "\n",
    "frame_generator = batch_frame_generator(\"../data/comma/test/camera/\", 10, 500)"
   ]
  },
  {
   "cell_type": "code",
   "execution_count": null,
   "metadata": {},
   "outputs": [],
   "source": [
    "for _ in range(50):\n",
    "    next(frame_generator)\n",
    "    \n",
    "random_frames = next(frame_generator)"
   ]
  },
  {
   "cell_type": "markdown",
   "metadata": {},
   "source": [
    "Loading the trained autoencoder and recover frames for a random sample"
   ]
  },
  {
   "cell_type": "code",
   "execution_count": null,
   "metadata": {},
   "outputs": [],
   "source": [
    "from lib.autoencoder.pca_autoencoder import PCAAutoencoder\n",
    "from lib.utils.tf_saver import TfSaver\n",
    "\n",
    "tf.reset_default_graph() \n",
    "model = PCAAutoencoder(hidden_size=100, input_shape=[160, 320, 3])\n",
    "\n",
    "with tf.Session() as sess:\n",
    "    sess.run(tf.global_variables_initializer())\n",
    "    saver = TfSaver('../data/models/comma_pca_autoencoder_folder/')\n",
    "    saver.load_latest_checkpoint(sess)\n",
    "    recovered_frames = model.restore(sess, random_frames)"
   ]
  },
  {
   "cell_type": "markdown",
   "metadata": {},
   "source": [
    "Plotting recovered frames"
   ]
  },
  {
   "cell_type": "code",
   "execution_count": null,
   "metadata": {},
   "outputs": [],
   "source": [
    "BATCH_SIZE = 10\n",
    "plt.figure(figsize=(10, BATCH_SIZE * 4))\n",
    "\n",
    "for i in range(BATCH_SIZE):\n",
    "    plt.subplot(BATCH_SIZE, 2, 2 * i + 1)\n",
    "    plt.imshow((255 * random_frames[i, :, :, :]).astype(\"uint8\"))\n",
    "    \n",
    "    plt.subplot(BATCH_SIZE, 2, 2 * i + 2)\n",
    "    plt.imshow((255 * recovered_frames[i, :, :, :]).astype(\"uint8\"))\n",
    "\n",
    "plt.show()"
   ]
  }
 ],
 "metadata": {
  "kernelspec": {
   "display_name": "Python 2",
   "language": "python",
   "name": "python2"
  },
  "language_info": {
   "codemirror_mode": {
    "name": "ipython",
    "version": 2
   },
   "file_extension": ".py",
   "mimetype": "text/x-python",
   "name": "python",
   "nbconvert_exporter": "python",
   "pygments_lexer": "ipython2",
   "version": "2.7.13"
  }
 },
 "nbformat": 4,
 "nbformat_minor": 2
}
