{
 "cells": [
  {
   "cell_type": "code",
   "execution_count": null,
   "metadata": {},
   "outputs": [],
   "source": [
    "import tensorflow as tf\n",
    "import numpy as np\n",
    "import matplotlib.pyplot as plt"
   ]
  },
  {
   "cell_type": "code",
   "execution_count": null,
   "metadata": {},
   "outputs": [],
   "source": [
    "%matplotlib inline"
   ]
  },
  {
   "cell_type": "markdown",
   "metadata": {},
   "source": [
    "Adding parent directory to the path: that way it is possible to import lib module here"
   ]
  },
  {
   "cell_type": "code",
   "execution_count": null,
   "metadata": {},
   "outputs": [],
   "source": [
    "import sys\n",
    "sys.path.append(\"..\")"
   ]
  },
  {
   "cell_type": "markdown",
   "metadata": {},
   "source": [
    "Getting a sample of random video frames for testing"
   ]
  },
  {
   "cell_type": "code",
   "execution_count": null,
   "metadata": {},
   "outputs": [],
   "source": [
    "from lib.video_processing.video_frame_generator import random_frame_generator\n",
    "frame_generator = random_frame_generator(\"../data/video/\")"
   ]
  },
  {
   "cell_type": "code",
   "execution_count": null,
   "metadata": {},
   "outputs": [],
   "source": [
    "BATCH_SIZE = 10\n",
    "IMAGE_SHAPE = [224, 224, 3]\n",
    "\n",
    "random_frames = np.zeros([BATCH_SIZE] + IMAGE_SHAPE)\n",
    "for i in range(BATCH_SIZE):\n",
    "    random_frames[i, :, :, :] = next(frame_generator)"
   ]
  },
  {
   "cell_type": "markdown",
   "metadata": {},
   "source": [
    "Loading the trained autoencoder and recover frames for a random sample"
   ]
  },
  {
   "cell_type": "code",
   "execution_count": null,
   "metadata": {},
   "outputs": [],
   "source": [
    "from lib.video_processing.autoencoder import FrameAutoencoder\n",
    "from lib.video_processing.tf_saver import TfSaver\n",
    "\n",
    "with tf.Session() as sess:\n",
    "    autoencoder = FrameAutoencoder(session=sess)\n",
    "    saver = TfSaver(\"../data/models/autoencoder_folder\")\n",
    "    saver.load_latest_checkpoint(sess)\n",
    "    recovered_frames = autoencoder.restore(random_frames)"
   ]
  },
  {
   "cell_type": "markdown",
   "metadata": {},
   "source": [
    "Plotting recovered frames"
   ]
  },
  {
   "cell_type": "code",
   "execution_count": null,
   "metadata": {},
   "outputs": [],
   "source": [
    "from lib.video_processing.image_processing import restore_image\n",
    "\n",
    "for i in range(BATCH_SIZE):\n",
    "    random_frames[i, :, :, :] = restore_image(random_frames[i, :, :, :])\n",
    "    recovered_frames[i, :, :, :] = restore_image(recovered_frames[i, :, :, :])\n",
    "    \n",
    "random_frames = random_frames[:, :, :, [2, 1, 0]]\n",
    "recovered_frames = recovered_frames[:, :, :, [2, 1, 0]]"
   ]
  },
  {
   "cell_type": "code",
   "execution_count": null,
   "metadata": {},
   "outputs": [],
   "source": [
    "plt.figure(figsize=(10, BATCH_SIZE * 4))\n",
    "\n",
    "for i in range(BATCH_SIZE):\n",
    "    plt.subplot(BATCH_SIZE, 2, 2 * i + 1)\n",
    "    plt.imshow(random_frames[i, :, :, :].astype(\"uint8\"))\n",
    "\n",
    "    plt.subplot(BATCH_SIZE, 2, 2 * i + 2)\n",
    "    plt.imshow(recovered_frames[i, :, :, :].astype(\"uint8\"))\n",
    "\n",
    "plt.show()"
   ]
  }
 ],
 "metadata": {
  "kernelspec": {
   "display_name": "Python 2",
   "language": "python",
   "name": "python2"
  },
  "language_info": {
   "codemirror_mode": {
    "name": "ipython",
    "version": 2
   },
   "file_extension": ".py",
   "mimetype": "text/x-python",
   "name": "python",
   "nbconvert_exporter": "python",
   "pygments_lexer": "ipython2",
   "version": "2.7.13"
  }
 },
 "nbformat": 4,
 "nbformat_minor": 2
}
