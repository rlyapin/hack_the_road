{
 "cells": [
  {
   "cell_type": "code",
   "execution_count": null,
   "metadata": {},
   "outputs": [],
   "source": [
    "import tensorflow as tf\n",
    "import numpy as np"
   ]
  },
  {
   "cell_type": "code",
   "execution_count": null,
   "metadata": {},
   "outputs": [],
   "source": [
    "tf.reset_default_graph()\n",
    "test_input = tf.constant(np.zeros((10, 224, 224, 3)), dtype=tf.float32)\n",
    "conv_1 = tf.layers.conv2d(test_input, filters=16, kernel_size=[5, 5], \n",
    "                                strides = 2, padding=\"same\", activation=tf.nn.relu)\n",
    "conv_2 = tf.layers.conv2d(conv_1, filters=8, kernel_size=[5, 5], \n",
    "                                strides = 2, padding=\"same\", activation=tf.nn.relu)\n",
    "conv_3 = tf.layers.conv2d(conv_2, filters=4, kernel_size=[5, 5], \n",
    "                                strides = 2, padding=\"same\", activation=tf.nn.relu)\n",
    "conv_4 = tf.layers.conv2d(conv_3, filters=2, kernel_size=[5, 5], \n",
    "                                strides = 2, padding=\"same\", activation=tf.nn.relu)\n",
    "conv_5 = tf.layers.conv2d(conv_4, filters=1, kernel_size=[5, 5], \n",
    "                                strides = 2, padding=\"same\", activation=tf.nn.relu)\n",
    "\n",
    "compression = tf.contrib.layers.flatten(conv_5)\n",
    "\n",
    "deconv_5 = tf.layers.conv2d_transpose(conv_5, filters=2, kernel_size=[5, 5], \n",
    "                                strides = 2, padding=\"same\", activation=tf.nn.relu)\n",
    "deconv_4 = tf.layers.conv2d_transpose(deconv_5, filters=4, kernel_size=[5, 5], \n",
    "                                strides = 2, padding=\"same\", activation=tf.nn.relu)\n",
    "deconv_3 = tf.layers.conv2d_transpose(deconv_4, filters=8, kernel_size=[5, 5], \n",
    "                                strides = 2, padding=\"same\", activation=tf.nn.relu)\n",
    "deconv_2 = tf.layers.conv2d_transpose(deconv_3, filters=16, kernel_size=[5, 5], \n",
    "                                strides = 2, padding=\"same\", activation=tf.nn.relu)\n",
    "restored_image = tf.layers.conv2d_transpose(deconv_2, filters=3, kernel_size=[5, 5], \n",
    "                                strides = 2, padding=\"same\", activation=tf.nn.relu)\n",
    "\n",
    "print compression\n",
    "print restored_image"
   ]
  },
  {
   "cell_type": "code",
   "execution_count": null,
   "metadata": {},
   "outputs": [],
   "source": [
    "tf.trainable_variables()"
   ]
  }
 ],
 "metadata": {
  "kernelspec": {
   "display_name": "Python 2",
   "language": "python",
   "name": "python2"
  },
  "language_info": {
   "codemirror_mode": {
    "name": "ipython",
    "version": 2
   },
   "file_extension": ".py",
   "mimetype": "text/x-python",
   "name": "python",
   "nbconvert_exporter": "python",
   "pygments_lexer": "ipython2",
   "version": "2.7.13"
  }
 },
 "nbformat": 4,
 "nbformat_minor": 2
}
