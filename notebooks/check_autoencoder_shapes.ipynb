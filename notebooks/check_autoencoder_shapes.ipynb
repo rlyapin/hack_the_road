{
 "cells": [
  {
   "cell_type": "code",
   "execution_count": null,
   "metadata": {},
   "outputs": [],
   "source": [
    "import tensorflow as tf\n",
    "import numpy as np"
   ]
  },
  {
   "cell_type": "code",
   "execution_count": null,
   "metadata": {},
   "outputs": [],
   "source": [
    "tf.reset_default_graph()\n",
    "test_input = tf.constant(np.zeros((10, 224, 224, 3)), dtype=tf.float32)\n",
    "conv_1 = tf.layers.conv2d(test_input, filters=16, kernel_size=[5, 5], \n",
    "                                strides = 1, padding=\"same\", activation=tf.nn.relu)\n",
    "pool_1 = tf.layers.max_pooling2d(conv_1, pool_size=2, strides=2)\n",
    "conv_2 = tf.layers.conv2d(pool_1, filters=32, kernel_size=[5, 5], \n",
    "                                strides = 1, padding=\"same\", activation=tf.nn.relu)\n",
    "pool_2 = tf.layers.max_pooling2d(conv_2, pool_size=2, strides=2)\n",
    "conv_3 = tf.layers.conv2d(pool_2, filters=64, kernel_size=[5, 5], \n",
    "                                strides = 1, padding=\"same\", activation=tf.nn.relu)\n",
    "pool_3 = tf.layers.max_pooling2d(conv_3, pool_size=2, strides=2)\n",
    "encoder_flat = tf.contrib.layers.flatten(pool_3)\n",
    "\n",
    "compression = tf.layers.dense(encoder_flat, 100)\n",
    "\n",
    "\n",
    "decoder_flat = tf.layers.dense(compression, 28 * 28 * 64, activation=tf.nn.relu)\n",
    "depool_3 = tf.reshape(decoder_flat, tf.shape(pool_3))\n",
    "deconv_3 = tf.layers.conv2d_transpose(depool_3, filters=128, kernel_size=[5, 5], \n",
    "                                strides = 1, padding=\"same\", activation=tf.nn.relu)\n",
    "\n",
    "depool_2 = tf.reshape(deconv_3, tf.shape(pool_2))\n",
    "deconv_2 = tf.layers.conv2d_transpose(depool_2, filters=64, kernel_size=[5, 5], \n",
    "                                strides = 1, padding=\"same\", activation=tf.nn.relu)\n",
    "\n",
    "depool_1 = tf.reshape(deconv_2, tf.shape(pool_1))\n",
    "deconv_1 = tf.layers.conv2d_transpose(depool_1, filters=12, kernel_size=[5, 5], \n",
    "                                strides = 1, padding=\"same\")\n",
    "\n",
    "restored_image = tf.reshape(deconv_1, tf.shape(test_input))\n",
    "\n",
    "print conv_1, pool_1\n",
    "print conv_2, pool_2\n",
    "print conv_3, pool_3\n",
    "print encoder_flat, compression, decoder_flat\n",
    "print depool_3, deconv_3\n",
    "print depool_2, deconv_2\n",
    "print depool_1, deconv_1\n",
    "print restored_image"
   ]
  },
  {
   "cell_type": "code",
   "execution_count": null,
   "metadata": {},
   "outputs": [],
   "source": [
    "tf.trainable_variables()"
   ]
  },
  {
   "cell_type": "code",
   "execution_count": null,
   "metadata": {},
   "outputs": [],
   "source": [
    "def count_parameters(tf_var):\n",
    "    return reduce(lambda x, y: x * y, map(int, tf_var.shape))\n",
    "\n",
    "sum([count_parameters(x) for x in tf.trainable_variables()])"
   ]
  }
 ],
 "metadata": {
  "kernelspec": {
   "display_name": "Python 2",
   "language": "python",
   "name": "python2"
  },
  "language_info": {
   "codemirror_mode": {
    "name": "ipython",
    "version": 2
   },
   "file_extension": ".py",
   "mimetype": "text/x-python",
   "name": "python",
   "nbconvert_exporter": "python",
   "pygments_lexer": "ipython2",
   "version": "2.7.13"
  }
 },
 "nbformat": 4,
 "nbformat_minor": 2
}
