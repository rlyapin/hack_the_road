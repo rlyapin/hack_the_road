{
 "cells": [
  {
   "cell_type": "code",
   "execution_count": null,
   "metadata": {},
   "outputs": [],
   "source": [
    "import tensorflow as tf\n",
    "import numpy as np"
   ]
  },
  {
   "cell_type": "code",
   "execution_count": null,
   "metadata": {},
   "outputs": [],
   "source": [
    "def add_conv_block(input_layer, n_filters_1, n_filters_2, dropout_share):\n",
    "    conv_1 = tf.layers.conv2d(input_layer, filters=n_filters_1, kernel_size=[3, 3], \n",
    "                                    strides=1, padding=\"same\", activation=tf.nn.relu)\n",
    "    drop_1 = tf.nn.dropout(conv_1, keep_prob=1-dropout_share)\n",
    "    conv_2 = tf.layers.conv2d(drop_1, filters=n_filters_2, kernel_size=[3, 3], \n",
    "                                    strides=1, padding=\"same\", activation=tf.nn.relu)\n",
    "    drop_2 = tf.nn.dropout(conv_2, keep_prob=1-dropout_share)\n",
    "    pool_1 = tf.layers.max_pooling2d(drop_2, pool_size=2, strides=2)\n",
    "    return pool_1\n",
    "\n",
    "def undo_conv_block(input_layer, n_filters_1, n_filters_2, dropout_share):\n",
    "    resize_1 = tf.image.resize_images(input_layer, \n",
    "                                      2 * np.array(input_layer.get_shape().as_list()[1:3]), \n",
    "                                      method=tf.image.ResizeMethod.NEAREST_NEIGHBOR)\n",
    "    conv_1 = tf.layers.conv2d_transpose(resize_1, filters=n_filters_1, kernel_size=[3, 3], \n",
    "                                    strides=1, padding=\"same\", activation=tf.nn.relu)\n",
    "    drop_1 = tf.nn.dropout(conv_1, keep_prob=1-dropout_share)\n",
    "    conv_2 = tf.layers.conv2d_transpose(drop_1, filters=n_filters_2, kernel_size=[3, 3], \n",
    "                                    strides=1, padding=\"same\", activation=tf.nn.relu)\n",
    "    drop_2 = tf.nn.dropout(conv_2, keep_prob=1-dropout_share)    \n",
    "    return drop_2"
   ]
  },
  {
   "cell_type": "code",
   "execution_count": null,
   "metadata": {},
   "outputs": [],
   "source": [
    "tf.reset_default_graph()\n",
    "dropout_share = tf.placeholder(tf.float32, shape=[])\n",
    "\n",
    "test_input = tf.constant(np.zeros((10, 160, 320, 3)), dtype=tf.float32)\n",
    "conv_block_1 = conv_block(test_input, 16, 32, dropout_share)\n",
    "conv_block_2 = conv_block(conv_block_1, 32, 64, dropout_share)\n",
    "conv_block_3 = conv_block(conv_block_2, 64, 128, dropout_share)\n",
    "conv_block_4 = conv_block(conv_block_3, 128, 256, dropout_share)\n",
    "conv_block_5 = conv_block(conv_block_4, 256, 512, dropout_share)\n",
    "\n",
    "encoder_flat = tf.contrib.layers.flatten(conv_block_5)\n",
    "\n",
    "compression = tf.layers.dense(encoder_flat, 100)\n",
    "\n",
    "decoder_flat = tf.layers.dense(compression, encoder_flat.shape[1], activation=tf.nn.relu)\n",
    "\n",
    "deconv_block_5 = tf.reshape(decoder_flat, tf.shape(conv_block_5))\n",
    "deconv_block_4 = undo_conv_block(deconv_block_5, 256, 256, dropout_share)\n",
    "deconv_block_3 = undo_conv_block(deconv_block_4, 128, 128, dropout_share)\n",
    "deconv_block_2 = undo_conv_block(deconv_block_3, 64, 64, dropout_share)\n",
    "deconv_block_1 = undo_conv_block(deconv_block_2, 32, 32, dropout_share)\n",
    "restored_input = undo_conv_block(deconv_block_1, 16, 3, dropout_share)\n",
    "\n",
    "print test_input, conv_block_1, conv_block_2, conv_block_3, conv_block_4, conv_block_5\n",
    "print encoder_flat, compression, decoder_flat\n",
    "print conv_block_5, conv_block_4, conv_block_3, conv_block_2, conv_block_1, restored_input"
   ]
  },
  {
   "cell_type": "code",
   "execution_count": null,
   "metadata": {},
   "outputs": [],
   "source": [
    "tf.trainable_variables()"
   ]
  },
  {
   "cell_type": "code",
   "execution_count": null,
   "metadata": {},
   "outputs": [],
   "source": [
    "def count_parameters(tf_var):\n",
    "    return reduce(lambda x, y: x * y, map(int, tf_var.shape))\n",
    "\n",
    "sum([count_parameters(x) for x in tf.trainable_variables()])"
   ]
  }
 ],
 "metadata": {
  "kernelspec": {
   "display_name": "Python 2",
   "language": "python",
   "name": "python2"
  },
  "language_info": {
   "codemirror_mode": {
    "name": "ipython",
    "version": 2
   },
   "file_extension": ".py",
   "mimetype": "text/x-python",
   "name": "python",
   "nbconvert_exporter": "python",
   "pygments_lexer": "ipython2",
   "version": "2.7.13"
  }
 },
 "nbformat": 4,
 "nbformat_minor": 2
}
