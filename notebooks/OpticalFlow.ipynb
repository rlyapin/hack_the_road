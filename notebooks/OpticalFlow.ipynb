{
 "cells": [
  {
   "cell_type": "code",
   "execution_count": null,
   "metadata": {
    "scrolled": true
   },
   "outputs": [],
   "source": [
    "from IPython.display import YouTubeVideo\n",
    "import cv2\n",
    "import math\n",
    "import matplotlib.pyplot as plt\n",
    "import numpy as np\n",
    "import os\n",
    "import pandas as pd\n",
    "import youtube_dl as yt\n",
    "%matplotlib inline\n",
    "%load_ext autoreload\n",
    "%autoreload"
   ]
  },
  {
   "cell_type": "code",
   "execution_count": null,
   "metadata": {
    "collapsed": true
   },
   "outputs": [],
   "source": [
    "sample_video_id = 'C5IkONJ-aTY'"
   ]
  },
  {
   "cell_type": "code",
   "execution_count": null,
   "metadata": {},
   "outputs": [],
   "source": [
    "# Download sample driving video\n",
    "ydl_opts = {\"outtmpl\" : \"data/video/%(id)s.%(ext)s\", \n",
    "            \"writedescription\" : True,\n",
    "            \"writeannotations\" : True,\n",
    "            \"writethumbnail\" : True,\n",
    "            \"format\" : \"mp4\"\n",
    "           }\n",
    "\n",
    "for video in [sample_video_id]:\n",
    "    if not os.path.isfile(\"data/video/\" + video + \".mp4\"):\n",
    "        yt.YoutubeDL(ydl_opts).download([\"http://www.youtube.com/watch?v=\" + video])"
   ]
  },
  {
   "cell_type": "code",
   "execution_count": null,
   "metadata": {},
   "outputs": [],
   "source": [
    "cap = cv2.VideoCapture(\"data/video/\" + sample_video_id + \".mp4\")\n",
    "print(\"The total number of frames \" + str(int(cap.get(7))))"
   ]
  },
  {
   "cell_type": "code",
   "execution_count": null,
   "metadata": {},
   "outputs": [],
   "source": [
    "cap.set(cv2.CAP_PROP_POS_MSEC, 49000)\n",
    "bool_flag, test_frame = video_reader.read()\n",
    "plt.imshow(test_frame[:, :, [2, 1, 0]])\n",
    "plt.show()"
   ]
  },
  {
   "cell_type": "code",
   "execution_count": null,
   "metadata": {},
   "outputs": [],
   "source": [
    "def get_flow_map(cap, msec1, msec2):\n",
    "\n",
    "    # params for ShiTomasi corner detection\n",
    "    feature_params = dict( maxCorners = 100,\n",
    "                           qualityLevel = 0.4,\n",
    "                           minDistance = 7,\n",
    "                           blockSize = 7 )\n",
    "    # Parameters for lucas kanade optical flow\n",
    "    lk_params = dict( winSize  = (15,15),\n",
    "                      maxLevel = 2,\n",
    "                      criteria = (cv2.TERM_CRITERIA_EPS | cv2.TERM_CRITERIA_COUNT, 10, 0.03))\n",
    "    # Create some random colors\n",
    "    color = np.random.randint(0,255,(100,3))\n",
    "    # Take first frame and find corners in it\n",
    "    cap.set(cv2.CAP_PROP_POS_MSEC, msec1)\n",
    "    _, old_frame = cap.read()\n",
    "    old_frame = old_frame[350:,:]\n",
    "    \n",
    "    old_gray = cv2.cvtColor(old_frame, cv2.COLOR_BGR2GRAY)\n",
    "    p0 = cv2.goodFeaturesToTrack(old_gray, mask = None, **feature_params)\n",
    "    # Create a mask image for drawing purposes\n",
    "    mask = np.zeros_like(old_frame)\n",
    "    \n",
    "    cap.set(cv2.CAP_PROP_POS_MSEC, msec2)\n",
    "    _, frame = cap.read()\n",
    "    frame = frame[350:,:]\n",
    "    \n",
    "    frame_gray = cv2.cvtColor(frame, cv2.COLOR_BGR2GRAY)\n",
    "    # calculate optical flow\n",
    "    p1, st, err = cv2.calcOpticalFlowPyrLK(old_gray, frame_gray, p0, None, **lk_params)\n",
    "    # Select good points\n",
    "    good_new = p1[st==1]\n",
    "    good_old = p0[st==1]\n",
    "    \n",
    "    # draw the tracks\n",
    "    vectors = []\n",
    "    for i,(new,old) in enumerate(zip(good_new,good_old)):\n",
    "        a,b = new.ravel()\n",
    "        c,d = old.ravel()\n",
    "        vectors.append([math.pow(c-a, 2) + math.pow(d-b, 2), a,b,c,d])\n",
    "    \n",
    "    vectors = np.array(vectors, dtype=np.int32)\n",
    "    length_threshold = np.percentile(vectors[:,0], q=75)\n",
    "    \n",
    "    for i in range(len(vectors)):\n",
    "        length,a,b,c,d = vectors[i,:]\n",
    "        if length >= length_threshold:\n",
    "            mask = cv2.line(mask, (a,b),(c,d), color[i].tolist(), 2)\n",
    "            frame = cv2.circle(frame,(a,b),5,color[i].tolist(),-1)\n",
    "    img = cv2.add(frame,mask)\n",
    "\n",
    "    plt.imshow(old_frame[:, :, [2, 1, 0]])\n",
    "    plt.show()\n",
    "    plt.imshow(frame[:, :, [2, 1, 0]])\n",
    "    plt.show()\n",
    "    plt.imshow(img[:, :, [2, 1, 0]])\n",
    "    plt.show()\n",
    "    \n",
    "    vectors = vectors[vectors[:,0] > length_threshold]\n",
    "    return np.mean(vectors[:,3] - vectors[:,1]), np.mean(vectors[:,4] - vectors[:,2])\n",
    "    \n",
    "avg_vector = get_flow_map(cap, 75000, 76000)\n",
    "print(avg_vector)"
   ]
  },
  {
   "cell_type": "code",
   "execution_count": null,
   "metadata": {},
   "outputs": [],
   "source": [
    "# Playing with optical flow\n",
    "def get_flow_map(cap, msec1, msec2):\n",
    "    cap.set(cv2.CAP_PROP_POS_MSEC, msec1)\n",
    "    _, frame1 = cap.read()\n",
    "    cap.set(cv2.CAP_PROP_POS_MSEC, msec2)\n",
    "    _, frame2 = cap.read()\n",
    "    \n",
    "    frame1_map = cv2.cvtColor(frame1,cv2.COLOR_BGR2GRAY)\n",
    "    frame2_map = cv2.cvtColor(frame2,cv2.COLOR_BGR2GRAY)\n",
    "    \n",
    "    hsv = np.zeros_like(frame1)\n",
    "    hsv[...,1] = 255\n",
    "\n",
    "    flow = cv2.calcOpticalFlowFarneback(frame1_map, frame2_map, None, 0.5, 3, 15, 3, 5, 1.2, 0)\n",
    "    mag, ang = cv2.cartToPolar(flow[...,0], flow[...,1])\n",
    "    \n",
    "    hsv[...,0] = ang*180/np.pi/2\n",
    "    hsv[...,2] = cv2.normalize(mag,None,0,255,cv2.NORM_MINMAX)\n",
    "    bgr = cv2.cvtColor(hsv, cv2.COLOR_HSV2BGR)\n",
    "    plt.imshow(frame1[:, :, [2, 1, 0]])\n",
    "    plt.show()\n",
    "    plt.imshow(frame2[:, :, [2, 1, 0]])\n",
    "    plt.show()\n",
    "#     plt.imshow(hsv[:, :, [2, 1, 0]])\n",
    "#     plt.show()\n",
    "#     plt.imshow(bgr[:, :, [2, 1, 0]])\n",
    "#     plt.show()\n",
    "#     k = cv2.waitKey(30) & 0xff\n",
    "#     if k == 27:\n",
    "#         break\n",
    "#     elif k == ord('s'):\n",
    "#         cv2.imwrite('opticalfb.png',frame2)\n",
    "#         cv2.imwrite('opticalhsv.png',bgr)\n",
    "#     prvs = next\n",
    "\n",
    "    return np.ma.masked_invalid(mag).mean(), np.ma.masked_invalid(ang * mag).mean()\n",
    "#     return np.ma.masked_invalid(mag).mean(), np.ma.masked_invalid(ang).mean()\n",
    "\n",
    "mag, ang = get_flow_map(cap, 75000, 76000)\n",
    "print(mag, ang)"
   ]
  },
  {
   "cell_type": "code",
   "execution_count": null,
   "metadata": {
    "collapsed": true
   },
   "outputs": [],
   "source": [
    "cap.release()"
   ]
  }
 ],
 "metadata": {
  "kernelspec": {
   "display_name": "Python 2",
   "language": "python",
   "name": "python2"
  },
  "language_info": {
   "codemirror_mode": {
    "name": "ipython",
    "version": 2
   },
   "file_extension": ".py",
   "mimetype": "text/x-python",
   "name": "python",
   "nbconvert_exporter": "python",
   "pygments_lexer": "ipython2",
   "version": "2.7.10"
  }
 },
 "nbformat": 4,
 "nbformat_minor": 2
}
